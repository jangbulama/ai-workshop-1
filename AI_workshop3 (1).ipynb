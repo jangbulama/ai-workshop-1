{
  "nbformat": 4,
  "nbformat_minor": 0,
  "metadata": {
    "colab": {
      "provenance": []
    },
    "kernelspec": {
      "name": "python3",
      "display_name": "Python 3"
    },
    "language_info": {
      "name": "python"
    }
  },
  "cells": [
    {
      "cell_type": "markdown",
      "source": [
        "##  **Some Helper Function:**"
      ],
      "metadata": {
        "id": "kpi5f-NuuRbg"
      }
    },
    {
      "cell_type": "markdown",
      "source": [
        "### Softmax Function:"
      ],
      "metadata": {
        "id": "NDqrxMpLuhLO"
      }
    },
    {
      "cell_type": "code",
      "source": [
        "import numpy as np\n",
        "\n",
        "def softmax(z):\n",
        "    \"\"\"\n",
        "    Compute the softmax probabilities for a given input matrix.\n",
        "\n",
        "    Parameters:\n",
        "    z (numpy.ndarray): Logits (raw scores) of shape (m, n), where\n",
        "                       - m is the number of samples.\n",
        "                       - n is the number of classes.\n",
        "\n",
        "    Returns:\n",
        "    numpy.ndarray: Softmax probability matrix of shape (m, n), where\n",
        "                   each row sums to 1 and represents the probability\n",
        "                   distribution over classes.\n",
        "\n",
        "    Notes:\n",
        "    - The input to softmax is typically computed as: z = XW + b.\n",
        "    - Uses numerical stabilization by subtracting the max value per row.\n",
        "    \"\"\"\n",
        "\n",
        "    # Subtract max value per row for numerical stability\n",
        "    z_stable = z - np.max(z, axis=1, keepdims=True)\n",
        "\n",
        "    # Compute exponentials\n",
        "    exp_z = np.exp(z_stable)\n",
        "\n",
        "    # Compute softmax probabilities\n",
        "    softmax_probs = exp_z / np.sum(exp_z, axis=1, keepdims=True)\n",
        "\n",
        "    return softmax_probs\n"
      ],
      "metadata": {
        "id": "YoOjTJJpt6Nv"
      },
      "execution_count": null,
      "outputs": []
    },
    {
      "cell_type": "markdown",
      "source": [
        "### Softmax Test Case:\n",
        "\n",
        "This test case checks that each row in the resulting softmax probabilities sums to 1, which is the fundamental property of softmax."
      ],
      "metadata": {
        "id": "ZFnMdHJzrUJV"
      }
    },
    {
      "cell_type": "code",
      "source": [
        "# Example test case\n",
        "z_test = np.array([[2.0, 1.0, 0.1], [1.0, 1.0, 1.0]])\n",
        "softmax_output = softmax(z_test)\n",
        "\n",
        "# Verify if the sum of probabilities for each row is 1 using assert\n",
        "row_sums = np.sum(softmax_output, axis=1)\n",
        "\n",
        "# Assert that the sum of each row is 1\n",
        "assert np.allclose(row_sums, 1), f\"Test failed: Row sums are {row_sums}\"\n",
        "\n",
        "print(\"Softmax function passed the test case!\")"
      ],
      "metadata": {
        "colab": {
          "base_uri": "https://localhost:8080/"
        },
        "id": "qL5ToHmkrTr-",
        "outputId": "7f08bb36-48d5-4f2e-c0b0-4527ced7d0fc"
      },
      "execution_count": null,
      "outputs": [
        {
          "output_type": "stream",
          "name": "stdout",
          "text": [
            "Softmax function passed the test case!\n"
          ]
        }
      ]
    },
    {
      "cell_type": "markdown",
      "source": [
        "### Prediction Function:"
      ],
      "metadata": {
        "id": "j1uPYyhotoAf"
      }
    },
    {
      "cell_type": "code",
      "source": [
        "import numpy as np\n",
        "\n",
        "def predict_softmax(X, W, b):\n",
        "    \"\"\"\n",
        "    Predict the class labels for a set of samples using the trained softmax model.\n",
        "\n",
        "    Parameters:\n",
        "    X (numpy.ndarray): Feature matrix of shape (n, d), where n is the number of samples and d is the number of features.\n",
        "    W (numpy.ndarray): Weight matrix of shape (d, c), where c is the number of classes.\n",
        "    b (numpy.ndarray): Bias vector of shape (c,).\n",
        "\n",
        "    Returns:\n",
        "    numpy.ndarray: Predicted class labels of shape (n,), where each value is the index of the predicted class.\n",
        "    \"\"\"\n",
        "\n",
        "    logits = np.dot(X, W) + b\n",
        "\n",
        "    probabilities = softmax(logits)\n",
        "\n",
        "    # Predict the class with the highest probability\n",
        "    predicted_classes = np.argmax(probabilities, axis=1)\n",
        "\n",
        "    return predicted_classes\n"
      ],
      "metadata": {
        "id": "8qwCbgC1vyHn"
      },
      "execution_count": null,
      "outputs": []
    },
    {
      "cell_type": "markdown",
      "source": [
        "### Test Function for Prediction Function:\n",
        "The test function ensures that the predicted class labels have the same number of elements as the input samples, verifying that the model produces a valid output shape."
      ],
      "metadata": {
        "id": "LCGDTavVuXZu"
      }
    },
    {
      "cell_type": "code",
      "source": [
        "# Define test case\n",
        "X_test = np.array([[0.2, 0.8], [0.5, 0.5], [0.9, 0.1]])  # Feature matrix (3 samples, 2 features)\n",
        "W_test = np.array([[0.4, 0.2, 0.1], [0.3, 0.7, 0.5]])  # Weights (2 features, 3 classes)\n",
        "b_test = np.array([0.1, 0.2, 0.3])  # Bias (3 classes)\n",
        "\n",
        "# Expected Output:\n",
        "# The function should return an array with class labels (0, 1, or 2)\n",
        "\n",
        "y_pred_test = predict_softmax(X_test, W_test, b_test)\n",
        "\n",
        "# Validate output shape\n",
        "assert y_pred_test.shape == (3,), f\"Test failed: Expected shape (3,), got {y_pred_test.shape}\"\n",
        "\n",
        "# Print the predicted labels\n",
        "print(\"Predicted class labels:\", y_pred_test)"
      ],
      "metadata": {
        "colab": {
          "base_uri": "https://localhost:8080/"
        },
        "id": "musr99YhucQX",
        "outputId": "4fc47fc6-1a46-4cb4-f049-62ce35e99321"
      },
      "execution_count": null,
      "outputs": [
        {
          "output_type": "stream",
          "name": "stdout",
          "text": [
            "Predicted class labels: [1 1 0]\n"
          ]
        }
      ]
    },
    {
      "cell_type": "markdown",
      "source": [
        "### Loss Function:"
      ],
      "metadata": {
        "id": "JwejxbajvEle"
      }
    },
    {
      "cell_type": "code",
      "source": [
        "import numpy as np\n",
        "\n",
        "def loss_softmax(y_pred, y):\n",
        "    \"\"\"\n",
        "    Compute the cross-entropy loss for a single sample.\n",
        "\n",
        "    Parameters:\n",
        "    y_pred (numpy.ndarray): Predicted probabilities of shape (c,) for a single sample,\n",
        "                             where c is the number of classes.\n",
        "    y (numpy.ndarray): True labels (one-hot encoded) of shape (c,), where c is the number of classes.\n",
        "\n",
        "    Returns:\n",
        "    float: Cross-entropy loss for the given sample.\n",
        "    \"\"\"\n",
        "\n",
        "    # Add a small epsilon to prevent log(0) issues (numerical stability)\n",
        "    epsilon = 1e-12\n",
        "    y_pred = np.clip(y_pred, epsilon, 1.0 - epsilon)\n",
        "\n",
        "    # Compute cross-entropy loss\n",
        "    loss = -np.sum(y * np.log(y_pred))\n",
        "\n",
        "    return loss\n"
      ],
      "metadata": {
        "id": "bjqnULCtun_Z"
      },
      "execution_count": null,
      "outputs": []
    },
    {
      "cell_type": "markdown",
      "source": [
        "## Test case for Loss Function:\n",
        "This test case Compares loss for correct vs. incorrect predictions.\n",
        "*   Expects low loss for correct predictions.\n",
        "*   Expects high loss for incorrect predictions."
      ],
      "metadata": {
        "id": "fXdMIV_cz5Fn"
      }
    },
    {
      "cell_type": "code",
      "source": [
        "import numpy as np\n",
        "\n",
        "# Define correct predictions (low loss scenario)\n",
        "y_true_correct = np.array([[1, 0, 0], [0, 1, 0], [0, 0, 1]])  # True one-hot labels\n",
        "y_pred_correct = np.array([[0.9, 0.05, 0.05],\n",
        "                           [0.1, 0.85, 0.05],\n",
        "                           [0.05, 0.1, 0.85]])  # High confidence in the correct class\n",
        "\n",
        "# Define incorrect predictions (high loss scenario)\n",
        "y_pred_incorrect = np.array([[0.05, 0.05, 0.9],  # Highly confident in the wrong class\n",
        "                              [0.1, 0.05, 0.85],\n",
        "                              [0.85, 0.1, 0.05]])\n",
        "\n",
        "# Compute loss for both cases\n",
        "loss_correct = loss_softmax(y_pred_correct, y_true_correct)\n",
        "loss_incorrect = loss_softmax(y_pred_incorrect, y_true_correct)\n",
        "\n",
        "# Validate that incorrect predictions lead to a higher loss\n",
        "assert loss_correct < loss_incorrect, f\"Test failed: Expected loss_correct < loss_incorrect, but got {loss_correct:.4f} >= {loss_incorrect:.4f}\"\n",
        "\n",
        "# Print results\n",
        "print(f\"Cross-Entropy Loss (Correct Predictions): {loss_correct:.4f}\")\n",
        "print(f\"Cross-Entropy Loss (Incorrect Predictions): {loss_incorrect:.4f}\")"
      ],
      "metadata": {
        "colab": {
          "base_uri": "https://localhost:8080/"
        },
        "id": "2IhRGquu0N9P",
        "outputId": "9ed5b844-714f-414b-d137-6feae9113197"
      },
      "execution_count": null,
      "outputs": [
        {
          "output_type": "stream",
          "name": "stdout",
          "text": [
            "Cross-Entropy Loss (Correct Predictions): 0.4304\n",
            "Cross-Entropy Loss (Incorrect Predictions): 8.9872\n"
          ]
        }
      ]
    },
    {
      "cell_type": "markdown",
      "source": [
        "### Cost Function:"
      ],
      "metadata": {
        "id": "y0d3fm1-vUlY"
      }
    },
    {
      "cell_type": "code",
      "source": [
        "def cost_softmax(X, y, W, b):\n",
        "    \"\"\"\n",
        "    Compute the average softmax regression cost (cross-entropy loss) over all samples.\n",
        "\n",
        "    Parameters:\n",
        "    X (numpy.ndarray): Feature matrix of shape (n, d), where n is the number of samples and d is the number of features.\n",
        "    y (numpy.ndarray): True labels (one-hot encoded) of shape (n, c), where n is the number of samples and c is the number of classes.\n",
        "    W (numpy.ndarray): Weight matrix of shape (d, c).\n",
        "    b (numpy.ndarray): Bias vector of shape (c,).\n",
        "\n",
        "    Returns:\n",
        "    float: Average softmax cost (cross-entropy loss) over all samples.\n",
        "    \"\"\"\n",
        "\n",
        "    # Compute logits: z = XW + b\n",
        "    logits = np.dot(X, W) + b\n",
        "\n",
        "    # Compute softmax probabilities\n",
        "    probabilities = softmax(logits)\n",
        "\n",
        "    # Add a small epsilon for numerical stability\n",
        "    epsilon = 1e-12\n",
        "    probabilities = np.clip(probabilities, epsilon, 1.0 - epsilon)\n",
        "\n",
        "    # Compute cross-entropy loss for all samples\n",
        "    total_loss = -np.sum(y * np.log(probabilities))\n",
        "\n",
        "    # Compute number of samples\n",
        "    n = X.shape[0]\n",
        "\n",
        "    # Return average loss\n",
        "    return total_loss / n\n"
      ],
      "metadata": {
        "id": "yaH9_s0svIGJ"
      },
      "execution_count": null,
      "outputs": []
    },
    {
      "cell_type": "markdown",
      "source": [
        "### Test Case for Cost Function:\n",
        "The test case assures that the cost for the incorrect prediction should be higher than for the correct prediction, confirming that the cost function behaves as expected."
      ],
      "metadata": {
        "id": "-eGyPFJ33tgY"
      }
    },
    {
      "cell_type": "code",
      "source": [
        "import numpy as np\n",
        "\n",
        "# Example 1: Correct Prediction (Closer predictions)\n",
        "X_correct = np.array([[1.0, 0.0], [0.0, 1.0]])  # Feature matrix for correct predictions\n",
        "y_correct = np.array([[1, 0], [0, 1]])  # True labels (one-hot encoded, matching predictions)\n",
        "W_correct = np.array([[5.0, -2.0], [-3.0, 5.0]])  # Weights for correct prediction\n",
        "b_correct = np.array([0.1, 0.1])  # Bias for correct prediction\n",
        "\n",
        "# Example 2: Incorrect Prediction (Far off predictions)\n",
        "X_incorrect = np.array([[0.1, 0.9], [0.8, 0.2]])  # Feature matrix for incorrect predictions\n",
        "y_incorrect = np.array([[1, 0], [0, 1]])  # True labels (one-hot encoded, incorrect predictions)\n",
        "W_incorrect = np.array([[0.1, 2.0], [1.5, 0.3]])  # Weights for incorrect prediction\n",
        "b_incorrect = np.array([0.5, 0.6])  # Bias for incorrect prediction\n",
        "\n",
        "# Compute cost for correct predictions\n",
        "cost_correct = cost_softmax(X_correct, y_correct, W_correct, b_correct)\n",
        "\n",
        "# Compute cost for incorrect predictions\n",
        "cost_incorrect = cost_softmax(X_incorrect, y_incorrect, W_incorrect, b_incorrect)\n",
        "\n",
        "# Check if the cost for incorrect predictions is greater than for correct predictions\n",
        "assert cost_incorrect > cost_correct, f\"Test failed: Incorrect cost {cost_incorrect} is not greater than correct cost {cost_correct}\"\n",
        "\n",
        "# Print the costs for verification\n",
        "print(\"Cost for correct prediction:\", cost_correct)\n",
        "print(\"Cost for incorrect prediction:\", cost_incorrect)\n",
        "\n",
        "print(\"Test passed!\")\n"
      ],
      "metadata": {
        "colab": {
          "base_uri": "https://localhost:8080/"
        },
        "id": "MIGAxYQt36Sr",
        "outputId": "96ca45a0-bd01-4f45-8642-74eae03f47a5"
      },
      "execution_count": null,
      "outputs": [
        {
          "output_type": "stream",
          "name": "stdout",
          "text": [
            "Cost for correct prediction: 0.0006234364133349324\n",
            "Cost for incorrect prediction: 0.29930861359446115\n",
            "Test passed!\n"
          ]
        }
      ]
    },
    {
      "cell_type": "markdown",
      "source": [
        "### Computing Gradients:"
      ],
      "metadata": {
        "id": "v-YIb7zlveKq"
      }
    },
    {
      "cell_type": "code",
      "source": [
        "import numpy as np\n",
        "\n",
        "def compute_gradient_softmax(X, y, W, b):\n",
        "    \"\"\"\n",
        "    Compute the gradients of the cost function with respect to weights and biases.\n",
        "\n",
        "    Parameters:\n",
        "    X (numpy.ndarray): Feature matrix of shape (n, d).\n",
        "    y (numpy.ndarray): True labels (one-hot encoded) of shape (n, c).\n",
        "    W (numpy.ndarray): Weight matrix of shape (d, c).\n",
        "    b (numpy.ndarray): Bias vector of shape (c,).\n",
        "\n",
        "    Returns:\n",
        "    tuple: Gradients with respect to weights (d, c) and biases (c,).\n",
        "    \"\"\"\n",
        "\n",
        "    # Compute logits: z = XW + b\n",
        "    logits = np.dot(X, W) + b\n",
        "\n",
        "    # Compute softmax probabilities\n",
        "    probabilities = softmax(logits)\n",
        "\n",
        "    # Compute error term (difference between predicted and actual labels)\n",
        "    error = probabilities - y\n",
        "\n",
        "    # Compute gradients\n",
        "    n = X.shape[0]\n",
        "    grad_W = np.dot(X.T, error) / n\n",
        "    grad_b = np.sum(error, axis=0) / n\n",
        "\n",
        "    return grad_W, grad_b\n"
      ],
      "metadata": {
        "id": "G3Vpn5bNvW3x"
      },
      "execution_count": null,
      "outputs": []
    },
    {
      "cell_type": "markdown",
      "source": [
        "### Test case for compute_gradient function:\n",
        "The test checks if the gradients from the function are close enough to the manually computed gradients using np.allclose, which accounts for potential floating-point discrepancies."
      ],
      "metadata": {
        "id": "S84yoIUx7vY7"
      }
    },
    {
      "cell_type": "code",
      "source": [
        "import numpy as np\n",
        "\n",
        "# Define a simple feature matrix and true labels\n",
        "X_test = np.array([[0.2, 0.8], [0.5, 0.5], [0.9, 0.1]])  # Feature matrix (3 samples, 2 features)\n",
        "y_test = np.array([[1, 0, 0], [0, 1, 0], [0, 0, 1]])  # True labels (one-hot encoded, 3 classes)\n",
        "\n",
        "# Define weight matrix and bias vector\n",
        "W_test = np.array([[0.4, 0.2, 0.1], [0.3, 0.7, 0.5]])  # Weights (2 features, 3 classes)\n",
        "b_test = np.array([0.1, 0.2, 0.3])  # Bias (3 classes)\n",
        "\n",
        "# Compute the gradients using the function\n",
        "grad_W, grad_b = compute_gradient_softmax(X_test, y_test, W_test, b_test)\n",
        "\n",
        "# Manually compute the predicted probabilities (using softmax function)\n",
        "z_test = np.dot(X_test, W_test) + b_test\n",
        "y_pred_test = softmax(z_test)\n",
        "\n",
        "# Compute the manually computed gradients\n",
        "grad_W_manual = np.dot(X_test.T, (y_pred_test - y_test)) / X_test.shape[0]\n",
        "grad_b_manual = np.sum(y_pred_test - y_test, axis=0) / X_test.shape[0]\n",
        "\n",
        "# Assert that the gradients computed by the function match the manually computed gradients\n",
        "assert np.allclose(grad_W, grad_W_manual), f\"Test failed: Gradients w.r.t. W are not equal.\\nExpected: {grad_W_manual}\\nGot: {grad_W}\"\n",
        "assert np.allclose(grad_b, grad_b_manual), f\"Test failed: Gradients w.r.t. b are not equal.\\nExpected: {grad_b_manual}\\nGot: {grad_b}\"\n",
        "\n",
        "# Print the gradients for verification\n",
        "print(\"Gradient w.r.t. W:\", grad_W)\n",
        "print(\"Gradient w.r.t. b:\", grad_b)\n",
        "\n",
        "print(\"Test passed!\")\n"
      ],
      "metadata": {
        "colab": {
          "base_uri": "https://localhost:8080/"
        },
        "id": "l-YSC_Ot70bZ",
        "outputId": "4dbfb36f-f27a-4056-89da-e087a18fe013"
      },
      "execution_count": null,
      "outputs": [
        {
          "output_type": "stream",
          "name": "stdout",
          "text": [
            "Gradient w.r.t. W: [[ 0.1031051   0.01805685 -0.12116196]\n",
            " [-0.13600547  0.00679023  0.12921524]]\n",
            "Gradient w.r.t. b: [-0.03290036  0.02484708  0.00805328]\n",
            "Test passed!\n"
          ]
        }
      ]
    },
    {
      "cell_type": "markdown",
      "source": [
        "### Implementing Gradient Descent:"
      ],
      "metadata": {
        "id": "W75VL71ivpjG"
      }
    },
    {
      "cell_type": "code",
      "source": [
        "def gradient_descent_softmax(X, y, W, b, alpha, n_iter, show_cost=False):\n",
        "    \"\"\"\n",
        "    Perform gradient descent to optimize the weights and biases.\n",
        "\n",
        "    Parameters:\n",
        "    X (numpy.ndarray): Feature matrix of shape (n, d).\n",
        "    y (numpy.ndarray): True labels (one-hot encoded) of shape (n, c).\n",
        "    W (numpy.ndarray): Weight matrix of shape (d, c).\n",
        "    b (numpy.ndarray): Bias vector of shape (c,).\n",
        "    alpha (float): Learning rate.\n",
        "    n_iter (int): Number of iterations.\n",
        "    show_cost (bool): Whether to display the cost at intervals.\n",
        "\n",
        "    Returns:\n",
        "    tuple: Optimized weights, biases, and cost history.\n",
        "    \"\"\"\n",
        "    cost_history = []\n",
        "\n",
        "    for i in range(n_iter):\n",
        "        # Compute gradients\n",
        "        grad_W, grad_b = compute_gradient_softmax(X, y, W, b)\n",
        "\n",
        "        # Update weights and biases using gradient descent\n",
        "        W -= alpha * grad_W\n",
        "        b -= alpha * grad_b\n",
        "\n",
        "        # Compute and store cost\n",
        "        cost = cost_softmax(X, y, W, b)\n",
        "        cost_history.append(cost)\n",
        "\n",
        "        # Display cost at intervals\n",
        "        if show_cost and i % (n_iter // 10) == 0:\n",
        "            print(f\"Iteration {i}/{n_iter}, Cost: {cost:.4f}\")\n",
        "\n",
        "    return W, b, cost_history\n"
      ],
      "metadata": {
        "id": "bbQ7SVw7vo-M"
      },
      "execution_count": null,
      "outputs": []
    },
    {
      "cell_type": "markdown",
      "source": [
        "## Preparing Dataset:"
      ],
      "metadata": {
        "id": "zBG9uSWKHDgX"
      }
    },
    {
      "cell_type": "code",
      "source": [
        "import pandas as pd\n",
        "import numpy as np\n",
        "import matplotlib.pyplot as plt\n",
        "from sklearn.model_selection import train_test_split\n",
        "\n",
        "def load_and_prepare_mnist(csv_file, test_size=0.2, random_state=42):\n",
        "    \"\"\"\n",
        "    Reads the MNIST CSV file, splits data into train/test sets, and plots one image per class.\n",
        "\n",
        "    Arguments:\n",
        "    csv_file (str)       : Path to the CSV file containing MNIST data.\n",
        "    test_size (float)    : Proportion of the data to use as the test set (default: 0.2).\n",
        "    random_state (int)   : Random seed for reproducibility (default: 42).\n",
        "\n",
        "    Returns:\n",
        "    X_train, X_test, y_train, y_test : Split dataset.\n",
        "    \"\"\"\n",
        "\n",
        "    # Load dataset\n",
        "    df = pd.read_csv(csv_file)\n",
        "\n",
        "    # Separate labels and features\n",
        "    y = df.iloc[:, 0].values  # First column is the label\n",
        "    X = df.iloc[:, 1:].values  # Remaining columns are pixel values\n",
        "\n",
        "    # Normalize pixel values (optional but recommended)\n",
        "    X = X / 255.0  # Scale values between 0 and 1\n",
        "\n",
        "    # Split data into train and test sets\n",
        "    X_train, X_test, y_train, y_test = train_test_split(X, y, test_size=test_size, random_state=random_state)\n",
        "\n",
        "    # Plot one sample image per class\n",
        "    plot_sample_images(X, y)\n",
        "\n",
        "    return X_train, X_test, y_train, y_test\n",
        "\n",
        "def plot_sample_images(X, y):\n",
        "    \"\"\"\n",
        "    Plots one sample image for each digit class (0-9).\n",
        "\n",
        "    Arguments:\n",
        "    X (np.ndarray): Feature matrix containing pixel values.\n",
        "    y (np.ndarray): Labels corresponding to images.\n",
        "    \"\"\"\n",
        "\n",
        "    plt.figure(figsize=(10, 4))\n",
        "    unique_classes = np.unique(y)  # Get unique class labels\n",
        "\n",
        "    for i, digit in enumerate(unique_classes):\n",
        "        index = np.where(y == digit)[0][0]  # Find first occurrence of the class\n",
        "        image = X[index].reshape(28, 28)  # Reshape 1D array to 28x28\n",
        "\n",
        "        plt.subplot(2, 5, i + 1)\n",
        "        plt.imshow(image, cmap='gray')\n",
        "        plt.title(f\"Digit: {digit}\")\n",
        "        plt.axis('off')\n",
        "\n",
        "    plt.tight_layout()\n",
        "    plt.show()\n"
      ],
      "metadata": {
        "id": "prZ_zAvLpodE"
      },
      "execution_count": null,
      "outputs": []
    },
    {
      "cell_type": "code",
      "source": [
        "csv_file_path = \"/mnist_3_and_5.csv\"  # Path to saved dataset\n",
        "X_train, X_test, y_train, y_test = load_and_prepare_mnist(csv_file_path)"
      ],
      "metadata": {
        "colab": {
          "base_uri": "https://localhost:8080/",
          "height": 227
        },
        "id": "ZtYR42Qas2uf",
        "outputId": "093925fe-7d28-410a-a582-5772444c6c85"
      },
      "execution_count": null,
      "outputs": [
        {
          "output_type": "display_data",
          "data": {
            "text/plain": [
              "<Figure size 1000x400 with 2 Axes>"
            ],
            "image/png": "[encoded data removed]"
          },
          "metadata": {}
        }
      ]
    },
    {
      "cell_type": "markdown",
      "source": [
        "### **A Quick debugging Step:**"
      ],
      "metadata": {
        "id": "MyMBH4mQtzHA"
      }
    },
    {
      "cell_type": "code",
      "source": [
        "# Assert that X and y have matching lengths\n",
        "assert len(X_train) == len(y_train), f\"Error: X and y have different lengths! X={len(X_train)}, y={len(y_train)}\"\n",
        "print(\"Move forward: Dimension of Feture Matrix X and label vector y matched.\")"
      ],
      "metadata": {
        "colab": {
          "base_uri": "https://localhost:8080/"
        },
        "id": "QIJhtnuCs7QF",
        "outputId": "91ec69b2-1ee4-46c7-91ae-35ec8426b49f"
      },
      "execution_count": null,
      "outputs": [
        {
          "output_type": "stream",
          "name": "stdout",
          "text": [
            "Move forward: Dimension of Feture Matrix X and label vector y matched.\n"
          ]
        }
      ]
    },
    {
      "cell_type": "markdown",
      "source": [
        "## **Train the Model:**"
      ],
      "metadata": {
        "id": "-TKIsKJcwFsv"
      }
    },
    {
      "cell_type": "code",
      "source": [
        "print(f\"Training data shape: {X_train.shape}\")\n",
        "print(f\"Test data shape: {X_test.shape}\")"
      ],
      "metadata": {
        "colab": {
          "base_uri": "https://localhost:8080/"
        },
        "id": "fEuTbCU0xAQW",
        "outputId": "05f83ef4-be3e-478d-d54e-642d3411faa5"
      },
      "execution_count": null,
      "outputs": [
        {
          "output_type": "stream",
          "name": "stdout",
          "text": [
            "Training data shape: (2192, 784)\n",
            "Test data shape: (549, 784)\n"
          ]
        }
      ]
    },
    {
      "cell_type": "code",
      "source": [
        "from sklearn.preprocessing import OneHotEncoder\n",
        "\n",
        "# Check if y_train is one-hot encoded\n",
        "if len(y_train.shape) == 1:\n",
        "    encoder = OneHotEncoder(sparse_output=False)  # Use sparse_output=False for newer versions of sklearn\n",
        "    y_train = encoder.fit_transform(y_train.reshape(-1, 1))  # One-hot encode labels\n",
        "    y_test = encoder.transform(y_test.reshape(-1, 1))  # One-hot encode test labels\n",
        "\n",
        "# Now y_train is one-hot encoded, and we can proceed to use it\n",
        "d = X_train.shape[1]  # Number of features (columns in X_train)\n",
        "c = y_train.shape[1]  # Number of classes (columns in y_train after one-hot encoding)\n",
        "\n",
        "# Initialize weights with small random values and biases with zeros\n",
        "W = np.random.randn(d, c) * 0.01  # Small random weights initialized\n",
        "b = np.zeros(c)  # Bias initialized to 0\n",
        "\n",
        "# Set hyperparameters for gradient descent\n",
        "alpha = 0.1  # Learning rate\n",
        "n_iter = 1000  # Number of iterations to run gradient descent\n",
        "\n",
        "# Train the model using gradient descent\n",
        "W_opt, b_opt, cost_history = gradient_descent_softmax(X_train, y_train, W, b, alpha, n_iter, show_cost=True)\n",
        "\n",
        "# Plot the cost history to visualize the convergence\n",
        "plt.plot(cost_history)\n",
        "plt.title('Cost Function vs. Iterations')\n",
        "plt.xlabel('Iterations')\n",
        "plt.ylabel('Cost')\n",
        "plt.grid(True)\n",
        "plt.show()\n"
      ],
      "metadata": {
        "colab": {
          "base_uri": "https://localhost:8080/",
          "height": 654
        },
        "id": "J8e2mHmRv4fd",
        "outputId": "161e1898-1225-4edf-99a0-b5b0e5e261f9"
      },
      "execution_count": null,
      "outputs": [
        {
          "output_type": "stream",
          "name": "stdout",
          "text": [
            "Iteration 0/1000, Cost: 0.5840\n",
            "Iteration 100/1000, Cost: 0.1458\n",
            "Iteration 200/1000, Cost: 0.1208\n",
            "Iteration 300/1000, Cost: 0.1092\n",
            "Iteration 400/1000, Cost: 0.1019\n",
            "Iteration 500/1000, Cost: 0.0968\n",
            "Iteration 600/1000, Cost: 0.0927\n",
            "Iteration 700/1000, Cost: 0.0895\n",
            "Iteration 800/1000, Cost: 0.0867\n",
            "Iteration 900/1000, Cost: 0.0844\n"
          ]
        },
        {
          "output_type": "display_data",
          "data": {
            "text/plain": [
              "<Figure size 640x480 with 1 Axes>"
            ],
            "image/png": "[encoded data removed]"
          },
          "metadata": {}
        }
      ]
    },
    {
      "cell_type": "markdown",
      "source": [
        "## **Evaluating the Model:**"
      ],
      "metadata": {
        "id": "tH4wNbhzys4f"
      }
    },
    {
      "cell_type": "code",
      "source": [
        "import numpy as np\n",
        "import matplotlib.pyplot as plt\n",
        "from sklearn.metrics import confusion_matrix, precision_score, recall_score, f1_score\n",
        "\n",
        "# Evaluation Function\n",
        "def evaluate_classification(y_true, y_pred):\n",
        "    \"\"\"\n",
        "    Evaluate classification performance using confusion matrix, precision, recall, and F1-score.\n",
        "\n",
        "    Parameters:\n",
        "    y_true (numpy.ndarray): True labels\n",
        "    y_pred (numpy.ndarray): Predicted labels\n",
        "\n",
        "    Returns:\n",
        "    tuple: Confusion matrix, precision, recall, F1 score\n",
        "    \"\"\"\n",
        "    # Compute confusion matrix\n",
        "    cm = confusion_matrix(y_true, y_pred)\n",
        "\n",
        "    # Compute precision, recall, and F1-score\n",
        "    precision = precision_score(y_true, y_pred, average='weighted')\n",
        "    recall = recall_score(y_true, y_pred, average='weighted')\n",
        "    f1 = f1_score(y_true, y_pred, average='weighted')\n",
        "\n",
        "    return cm, precision, recall, f1\n"
      ],
      "metadata": {
        "id": "lzV7BkRqOl5A"
      },
      "execution_count": null,
      "outputs": []
    },
    {
      "cell_type": "code",
      "source": [
        "# Predict on the test set\n",
        "y_pred_test = predict_softmax(X_test, W_opt, b_opt)\n",
        "\n",
        "# Evaluate accuracy\n",
        "y_test_labels = np.argmax(y_test, axis=1)  # True labels in numeric form\n",
        "\n",
        "# Evaluate the model\n",
        "cm, precision, recall, f1 = evaluate_classification(y_test_labels, y_pred_test)\n",
        "\n",
        "# Print the evaluation metrics\n",
        "print(\"\\nConfusion Matrix:\")\n",
        "print(cm)\n",
        "print(f\"Precision: {precision:.2f}\")\n",
        "print(f\"Recall: {recall:.2f}\")\n",
        "print(f\"F1-Score: {f1:.2f}\")\n",
        "\n",
        "# Visualizing the Confusion Matrix\n",
        "fig, ax = plt.subplots(figsize=(12, 12))\n",
        "cax = ax.imshow(cm, cmap='Blues')  # Use a color map for better visualization\n",
        "\n",
        "# Dynamic number of classes\n",
        "num_classes = cm.shape[0]\n",
        "ax.set_xticks(range(num_classes))\n",
        "ax.set_yticks(range(num_classes))\n",
        "ax.set_xticklabels([f'Predicted {i}' for i in range(num_classes)])\n",
        "ax.set_yticklabels([f'Actual {i}' for i in range(num_classes)])\n",
        "\n",
        "# Add labels to each cell in the confusion matrix\n",
        "for i in range(cm.shape[0]):\n",
        "    for j in range(cm.shape[1]):\n",
        "        ax.text(j, i, cm[i, j], ha='center', va='center', color='white' if cm[i, j] > np.max(cm) / 2 else 'black')\n",
        "\n",
        "# Add grid lines and axis labels\n",
        "ax.grid(False)\n",
        "plt.title('Confusion Matrix', fontsize=14)\n",
        "plt.xlabel('Predicted Label', fontsize=12)\n",
        "plt.ylabel('Actual Label', fontsize=12)\n",
        "\n",
        "# Adjust layout\n",
        "plt.tight_layout()\n",
        "plt.colorbar(cax)\n",
        "plt.show()\n"
      ],
      "metadata": {
        "colab": {
          "base_uri": "https://localhost:8080/",
          "height": 1000
        },
        "id": "uuGtvIlywK7J",
        "outputId": "4be9a7f9-3be0-48b4-b9d1-9bbd2eb53d08"
      },
      "execution_count": null,
      "outputs": [
        {
          "output_type": "stream",
          "name": "stdout",
          "text": [
            "\n",
            "Confusion Matrix:\n",
            "[[271   7]\n",
            " [ 24 247]]\n",
            "Precision: 0.95\n",
            "Recall: 0.94\n",
            "F1-Score: 0.94\n"
          ]
        },
        {
          "output_type": "display_data",
          "data": {
            "text/plain": [
              "<Figure size 1200x1200 with 2 Axes>"
            ],
            "image/png": "[encoded data removed]"
          },
          "metadata": {}
        }
      ]
    },
    {
      "cell_type": "markdown",
      "source": [
        "# Linear Seperability and Logistic Regression:"
      ],
      "metadata": {
        "id": "yv8J5hNCPzl6"
      }
    },
    {
      "cell_type": "code",
      "source": [
        "# Initialize weights and bias\n",
        "weights = np.zeros(X.shape[1]) # 784 weights (one for each pixel)\n",
        "bias = 0\n",
        "learning_rate = 0.1\n",
        "epochs = 100"
      ],
      "metadata": {
        "id": "RZ9odCTwHEE6"
      },
      "execution_count": null,
      "outputs": []
    },
    {
      "cell_type": "markdown",
      "source": [
        "#Question 3: What does the weights array represent in this context?\n",
        "\n",
        "The weights array represents the importance (or contribution) of each pixel in the 784-dimensional input image (since each image in MNIST is 28×28 pixels flattened into a 1D array of size 784).\n",
        "\n",
        "Each weight corresponds to a specific pixel in the input image.\n",
        "\n",
        "During training, these weights are updated based on how well the model predicts the labels (3 or 5).\n",
        "\n",
        "The final weight values determine which pixels are most influential in distinguishing between 3s and 5s.\n",
        "\n",
        "#Question 4: Why are we initializing the weights to zero? What effect could this have on the training process?\n",
        "\n",
        "We initialize the weights to zero for simplicity, but this can have certain effects:\n",
        "\n",
        "Why initialize to zero?\n",
        "It provides a neutral starting point, meaning all pixels contribute equally at the beginning.\n",
        "\n",
        "Since the Perceptron algorithm updates weights iteratively, starting from zero allows for gradual learning."
      ],
      "metadata": {
        "id": "et9uOY_CGjNC"
      }
    },
    {
      "cell_type": "code",
      "source": [
        "# Get predictions for all data points\n",
        "predictions = np.dot(X, weights) + bias\n",
        "y_pred = np.where(predictions >= 0, 1, 0)\n",
        "# Calculate final accuracy\n",
        "final_accuracy = np.mean(y_pred == y)\n",
        "print(f\"Final Accuracy: {final_accuracy:.4f}\")\n",
        "# Step 5: Visualize Misclassified Images\n",
        "misclassified_idx = np.where(y_pred != y)[0]\n",
        "if len(misclassified_idx) > 0:\n",
        "fig, axes = plt.subplots(2, 5, figsize=(10, 5))\n",
        "for ax, idx in zip(axes.flat, misclassified_idx[:10]): # Show 10 misclassified images\n",
        "ax.imshow(X[idx].reshape(28, 28), cmap=\"gray\")\n",
        "ax.set_title(f\"Pred: {y_pred[idx]}, True: {y[idx]}\")\n",
        "ax.axis(\"off\")\n",
        "plt.suptitle(\"Misclassified Images\")\n",
        "plt.show()\n",
        "else:\n",
        "print(\"All images were correctly classified!\")"
      ],
      "metadata": {
        "id": "kGLcKs_6HYco"
      },
      "execution_count": null,
      "outputs": []
    },
    {
      "cell_type": "markdown",
      "source": [],
      "metadata": {
        "id": "W5wOhhDdHYPK"
      }
    },
    {
      "cell_type": "markdown",
      "source": [
        "#Question 8: What does misclassified_idx store, and how is it used in this code?\n",
        "The variable misclassified_idx stores the indices of incorrectly classified images.\n",
        "\n",
        "How it works:\n",
        "y_pred != y creates a Boolean mask (array of True/False values), where True represents misclassified samples.\n",
        "\n",
        "np.where(y_pred != y)[0] extracts the indices of those misclassified samples.\n",
        "\n",
        "How it's used in the code:\n",
        "If there are misclassified samples, the code plots up to 10 of them using matplotlib.\n",
        "\n",
        "It displays each misclassified image with its predicted (Pred) and true (True) label.\n",
        "\n",
        "If no misclassifications exist, the message \"All images were correctly classified!\" is printed.\n",
        "\n",
        "#Question 9: How do you interpret the result if the output is \"All images were correctly classified!\"?\n",
        "If the message \"All images were correctly classified!\" appears, it means:\n",
        " The perceptron achieved 100% accuracy on the dataset.\n",
        " Every digit (3 or 5) in the dataset was correctly classified.\n",
        "\n",
        "However, in real-world scenarios:\n",
        "\n",
        "Perfect accuracy is rare, especially for handwritten digits.\n",
        "\n",
        "Overfitting might have occurred if the dataset is too small or too simple."
      ],
      "metadata": {
        "id": "nIlfr2_KHIW4"
      }
    },
    {
      "cell_type": "code",
      "source": [],
      "metadata": {
        "id": "rvPJJTQ9GhyO"
      },
      "execution_count": null,
      "outputs": []
    },
    {
      "cell_type": "markdown",
      "source": [
        "#Question 5: What is the purpose of output = np.dot(X[i], weights) + bias line?\n",
        "This line calculates the weighted sum (linear combination) of the input features (X[i]) using the weights and bias.\n",
        "\n",
        "Breaking it down:\n",
        "X[i] represents a single input sample (a flattened 28x28 image in MNIST).\n",
        "\n",
        "weights is a vector that contains the learned importance of each pixel.\n",
        "\n",
        "np.dot(X[i], weights) computes the sum of pixel values weighted by their corresponding weights.\n",
        "\n",
        "bias is an additional value that shifts the decision boundary.\n",
        "\n",
        "This output determines the raw prediction before applying an activation function (such as a step function). If output >= 0, the perceptron predicts class 1; otherwise, it predicts class 0.\n",
        "\n",
        "#Question 6: What happens when the prediction is wrong? How are the weights and bias updated?\n",
        "When the prediction is incorrect, the perceptron updates the weights and bias to correct future predictions using the Perceptron Learning Rule:\n",
        "\n",
        "Update Rule:\n",
        "\\text{weights} = \\text{weights} + \\text{learning_rate} \\times (\\text{true label} - \\text{predicted label}) \\times \\text{input features} \\text{bias} = \\text{bias} + \\text{learning_rate} \\times (\\text{true label} - \\text{predicted label})\n",
        "How it works:\n",
        "If the prediction is too low (y_pred = 0 but y_true = 1), increase weights to make future predictions higher.\n",
        "\n",
        "If the prediction is too high (y_pred = 1 but y_true = 0), decrease weights to reduce the output.\n",
        "\n",
        "This ensures the perceptron gradually learns the correct decision boundary.\n",
        "\n",
        "#Question 7: Why is the final accuracy important, and what do you expect it to be?\n",
        "The final accuracy measures the model’s performance by calculating the percentage of correct predictions.\n",
        "\n",
        "Why is it important?\n",
        "It quantifies learning progress, showing whether the perceptron is successfully distinguishing between 3s and 5s.\n",
        "\n",
        "It helps compare models (e.g., adjusting learning rate or training for more epochs).\n",
        "\n",
        "If accuracy is too low, it suggests issues like:\n",
        "\n",
        "Not enough training data\n",
        "\n",
        "Overlapping patterns between 3s and 5s\n",
        "\n",
        "Need for more advanced models (e.g., SVMs, Neural Networks)\n",
        "\n",
        "Expected Accuracy:\n",
        "A simple perceptron should achieve 85-95% accuracy since 3s and 5s are somewhat distinct but can still be misclassified.\n",
        "\n",
        "If accuracy is below 80%, adjustments might be needed (e.g., tuning hyperparameters)."
      ],
      "metadata": {
        "id": "io7L_bg6HsuT"
      }
    },
    {
      "cell_type": "markdown",
      "source": [
        "#4.4 Task 3: Perceptron Algorithm for 3 vs 5 Classification."
      ],
      "metadata": {
        "id": "GX_B2aEJK2n2"
      }
    },
    {
      "cell_type": "code",
      "source": [
        "# Import required libraries\n",
        "import pandas as pd\n",
        "import numpy as np\n",
        "import matplotlib.pyplot as plt\n",
        "from sklearn.model_selection import train_test_split\n",
        "\n",
        "# Load and preprocess data\n",
        "def load_data(csv_path):\n",
        "    \"\"\"\n",
        "    Load MNIST 3 vs 5 dataset and preprocess it.\n",
        "\n",
        "    Args:\n",
        "        csv_path (str): Path to the CSV file.\n",
        "\n",
        "    Returns:\n",
        "        X (np.array): Normalized feature matrix.\n",
        "        y (np.array): Binary labels (-1 for 3, 1 for 5).\n",
        "    \"\"\"\n",
        "    data = pd.read_csv('/mnist_3_and_5.csv')\n",
        "    # Extract features and normalize\n",
        "    X = data.drop('label', axis=1).values / 255.0\n",
        "    # Convert labels: 3 → -1, 5 → 1\n",
        "    y = data['label'].values\n",
        "    y = np.where(y == 3, -1, 1)\n",
        "    return X, y\n"
      ],
      "metadata": {
        "id": "CTyaPcM-P69S"
      },
      "execution_count": null,
      "outputs": []
    },
    {
      "cell_type": "code",
      "source": [
        "\n",
        "# Perceptron training function\n",
        "def train_perceptron(X_train, y_train, learning_rate=0.1, epochs=100):\n",
        "    \"\"\"\n",
        "    Train the Perceptron model.\n",
        "\n",
        "    Args:\n",
        "        X_train (np.array): Training features.\n",
        "        y_train (np.array): Training labels.\n",
        "        learning_rate (float): Step size for weight updates.\n",
        "        epochs (int): Number of training passes.\n",
        "\n",
        "    Returns:\n",
        "        weights (np.array): Learned weights.\n",
        "        bias (float): Learned bias term.\n",
        "    \"\"\"\n",
        "    n_samples, n_features = X_train.shape\n",
        "    weights = np.zeros(n_features)\n",
        "    bias = 0.0\n",
        "\n",
        "    for epoch in range(epochs):\n",
        "        for i in range(n_samples):\n",
        "            xi = X_train[i]\n",
        "            yi = y_train[i]\n",
        "            # Compute prediction\n",
        "            prediction = np.dot(xi, weights) + bias\n",
        "            # Update weights if misclassified\n",
        "            if yi * prediction <= 0:\n",
        "                weights += learning_rate * yi * xi\n",
        "                bias += learning_rate * yi\n",
        "        # Print progress every 10 epochs\n",
        "        if (epoch + 1) % 10 == 0:\n",
        "            print(f\"Epoch {epoch + 1}/{epochs} completed\")\n",
        "    return weights, bias\n"
      ],
      "metadata": {
        "id": "fpgRsqt4KZrX"
      },
      "execution_count": null,
      "outputs": []
    },
    {
      "cell_type": "code",
      "source": [
        "\n",
        "# Prediction function\n",
        "def predict_perceptron(X, weights, bias):\n",
        "    \"\"\"\n",
        "    Predict labels using the Perceptron model.\n",
        "\n",
        "    Args:\n",
        "        X (np.array): Input features.\n",
        "        weights (np.array): Model weights.\n",
        "        bias (float): Bias term.\n",
        "\n",
        "    Returns:\n",
        "        predictions (np.array): Predicted labels (-1 or 1).\n",
        "    \"\"\"\n",
        "    linear_output = np.dot(X, weights) + bias\n",
        "    return np.sign(linear_output)\n"
      ],
      "metadata": {
        "id": "3ZxYYP9jKfyu"
      },
      "execution_count": null,
      "outputs": []
    },
    {
      "cell_type": "code",
      "source": [
        "\n",
        "# Visualize misclassified images\n",
        "def plot_misclassified(X_test, y_test, y_pred, num_images=5):\n",
        "    \"\"\"\n",
        "    Plot misclassified images with true/predicted labels.\n",
        "\n",
        "    Args:\n",
        "        X_test (np.array): Test features.\n",
        "        y_test (np.array): True labels.\n",
        "        y_pred (np.array): Predicted labels.\n",
        "        num_images (int): Number of images to display.\n",
        "    \"\"\"\n",
        "    misclassified = np.where(y_pred != y_test)[0]\n",
        "    if len(misclassified) == 0:\n",
        "        print(\"No misclassified images found!\")\n",
        "        return\n",
        "\n",
        "    plt.figure(figsize=(12, 6))\n",
        "    for i, idx in enumerate(misclassified[:num_images]):\n",
        "        plt.subplot(1, num_images, i + 1)\n",
        "        image = X_test[idx].reshape(28, 28)\n",
        "        true_label = 3 if y_test[idx] == -1 else 5\n",
        "        pred_label = 3 if y_pred[idx] == -1 else 5\n",
        "        plt.imshow(image, cmap='gray')\n",
        "        plt.title(f\"True: {true_label}\\nPred: {pred_label}\")\n",
        "        plt.axis('off')\n",
        "    plt.tight_layout()\n",
        "    plt.show()\n",
        "\n",
        "# Main execution\n",
        "if __name__ == \"__main__\":\n",
        "    # Load data\n",
        "    X, y = load_data(\"mnist_3_and_5.csv\")\n",
        "\n",
        "    # Split into train-test sets\n",
        "    X_train, X_test, y_train, y_test = train_test_split(\n",
        "        X, y, test_size=0.2, random_state=42\n",
        "    )\n",
        "\n",
        "    # Train Perceptron\n",
        "    weights, bias = train_perceptron(X_train, y_train, epochs=100)\n",
        "\n",
        "    # Evaluate on test set\n",
        "    y_pred = predict_perceptron(X_test, weights, bias)\n",
        "    accuracy = np.mean(y_pred == y_test)\n",
        "    print(f\"\\nTest Accuracy: {accuracy * 100:.2f}%\")\n",
        "\n",
        "    # Visualize misclassified images\n",
        "    plot_misclassified(X_test, y_test, y_pred)"
      ],
      "metadata": {
        "colab": {
          "base_uri": "https://localhost:8080/",
          "height": 521
        },
        "id": "v4wxPQjYKmhm",
        "outputId": "a87501fd-f348-47a9-b52c-394532957585"
      },
      "execution_count": null,
      "outputs": [
        {
          "output_type": "stream",
          "name": "stdout",
          "text": [
            "Epoch 10/100 completed\n",
            "Epoch 20/100 completed\n",
            "Epoch 30/100 completed\n",
            "Epoch 40/100 completed\n",
            "Epoch 50/100 completed\n",
            "Epoch 60/100 completed\n",
            "Epoch 70/100 completed\n",
            "Epoch 80/100 completed\n",
            "Epoch 90/100 completed\n",
            "Epoch 100/100 completed\n",
            "\n",
            "Test Accuracy: 93.62%\n"
          ]
        },
        {
          "output_type": "display_data",
          "data": {
            "text/plain": [
              "<Figure size 1200x600 with 5 Axes>"
            ],
            "image/png": "[encoded data removed]"
          },
          "metadata": {}
        }
      ]
    }
  ]
}